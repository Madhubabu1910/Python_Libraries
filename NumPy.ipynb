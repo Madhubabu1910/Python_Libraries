{
  "nbformat": 4,
  "nbformat_minor": 0,
  "metadata": {
    "colab": {
      "provenance": [],
      "authorship_tag": "ABX9TyN0xavRoSFt/q0XQoFXkVdl",
      "include_colab_link": true
    },
    "kernelspec": {
      "name": "python3",
      "display_name": "Python 3"
    },
    "language_info": {
      "name": "python"
    }
  },
  "cells": [
    {
      "cell_type": "markdown",
      "metadata": {
        "id": "view-in-github",
        "colab_type": "text"
      },
      "source": [
        "<a href=\"https://colab.research.google.com/github/iamkishore0/Python_Libraries/blob/main/NumPy.ipynb\" target=\"_parent\"><img src=\"https://colab.research.google.com/assets/colab-badge.svg\" alt=\"Open In Colab\"/></a>"
      ]
    },
    {
      "cell_type": "code",
      "source": [
        "#Import numpy and name as np\n",
        "import numpy as np"
      ],
      "metadata": {
        "id": "tKeQPTa9Bybv"
      },
      "execution_count": 31,
      "outputs": []
    },
    {
      "cell_type": "code",
      "source": [
        "#Create a list and convert that to ndarray\n",
        "a = [1,2,3,4]\n",
        "print(type(a))\n",
        "\n",
        "b = np.array(a)\n",
        "type(b)"
      ],
      "metadata": {
        "colab": {
          "base_uri": "https://localhost:8080/"
        },
        "id": "RrsKs5MOGAPM",
        "outputId": "807e1b50-e78b-4b0d-c117-84c81ef63787"
      },
      "execution_count": 32,
      "outputs": [
        {
          "output_type": "stream",
          "name": "stdout",
          "text": [
            "<class 'list'>\n"
          ]
        },
        {
          "output_type": "execute_result",
          "data": {
            "text/plain": [
              "numpy.ndarray"
            ]
          },
          "metadata": {},
          "execution_count": 32
        }
      ]
    },
    {
      "cell_type": "code",
      "source": [
        "#Create an ndarray and check dimention\n",
        "c = np.array([1,2,3])\n",
        "print(c)\n",
        "print(type(c))\n",
        "c.ndim"
      ],
      "metadata": {
        "colab": {
          "base_uri": "https://localhost:8080/"
        },
        "id": "Mb9_bFAMGaLa",
        "outputId": "2bb13682-4922-4063-c91d-9ef54316c2ff"
      },
      "execution_count": 33,
      "outputs": [
        {
          "output_type": "stream",
          "name": "stdout",
          "text": [
            "[1 2 3]\n",
            "<class 'numpy.ndarray'>\n"
          ]
        },
        {
          "output_type": "execute_result",
          "data": {
            "text/plain": [
              "1"
            ]
          },
          "metadata": {},
          "execution_count": 33
        }
      ]
    },
    {
      "cell_type": "code",
      "source": [
        "#Multi-Dimentional arrays and print dimentions using ndim\n",
        "x = np.array([1,2,3,4,5])\n",
        "d = np.array([[1,2,3],[4,5,6]])\n",
        "e = np.array([[[1,2,3],[3,4,5],[6,7,8]]])\n",
        "\n",
        "print(x.ndim)\n",
        "print(d.ndim)\n",
        "print(e.ndim)"
      ],
      "metadata": {
        "colab": {
          "base_uri": "https://localhost:8080/"
        },
        "id": "m4HNmxoDG20P",
        "outputId": "919de698-edbf-4a55-dda1-9081953019cd"
      },
      "execution_count": 34,
      "outputs": [
        {
          "output_type": "stream",
          "name": "stdout",
          "text": [
            "1\n",
            "2\n",
            "3\n"
          ]
        }
      ]
    },
    {
      "cell_type": "code",
      "source": [
        "#Shape of arrays - Rows and Columns\n",
        "f = np.array([[1,2],[3,4]])\n",
        "g = np.array([[[1,2],[3,4],[5,6]]])\n",
        "h = np.array([[1,2,3],[2,3,4]])\n",
        "i = np.array([[[[1,2,3,4,5],[4,5,6,7,8],[7,8,9,1,2],[2,3,4,5,6]]]])\n",
        "\n",
        "print(f.shape)\n",
        "print(g.shape)\n",
        "print(h.shape)\n",
        "print(i.shape)"
      ],
      "metadata": {
        "colab": {
          "base_uri": "https://localhost:8080/"
        },
        "id": "C7-ymGySH1Ej",
        "outputId": "b68f69d2-8602-4ba4-e769-399c385170a1"
      },
      "execution_count": 35,
      "outputs": [
        {
          "output_type": "stream",
          "name": "stdout",
          "text": [
            "(2, 2)\n",
            "(1, 3, 2)\n",
            "(2, 3)\n",
            "(1, 1, 4, 5)\n"
          ]
        }
      ]
    },
    {
      "cell_type": "code",
      "source": [
        "#Data type\n",
        "f.dtype"
      ],
      "metadata": {
        "colab": {
          "base_uri": "https://localhost:8080/"
        },
        "id": "X87ZnHmAI3FU",
        "outputId": "1dd0a2c1-2a95-4ff1-b46b-07c8853715b7"
      },
      "execution_count": 36,
      "outputs": [
        {
          "output_type": "execute_result",
          "data": {
            "text/plain": [
              "dtype('int64')"
            ]
          },
          "metadata": {},
          "execution_count": 36
        }
      ]
    },
    {
      "cell_type": "code",
      "source": [
        "#item size\n",
        "f.itemsize"
      ],
      "metadata": {
        "id": "8UuNUnsrVwa6",
        "outputId": "4e17aac2-614a-4c2c-8c6e-c6f92be5b531",
        "colab": {
          "base_uri": "https://localhost:8080/"
        }
      },
      "execution_count": 37,
      "outputs": [
        {
          "output_type": "execute_result",
          "data": {
            "text/plain": [
              "8"
            ]
          },
          "metadata": {},
          "execution_count": 37
        }
      ]
    },
    {
      "cell_type": "code",
      "source": [
        "#byte size\n",
        "f.nbytes"
      ],
      "metadata": {
        "id": "9ZMWo2NoWFxW",
        "outputId": "78996151-6d82-409f-e3a9-f2ca5fc1bec3",
        "colab": {
          "base_uri": "https://localhost:8080/"
        }
      },
      "execution_count": 38,
      "outputs": [
        {
          "output_type": "execute_result",
          "data": {
            "text/plain": [
              "32"
            ]
          },
          "metadata": {},
          "execution_count": 38
        }
      ]
    },
    {
      "cell_type": "code",
      "source": [
        "#Create an array with 2 columns,3 rows and data filled with zeros, ones\n",
        "x = np.zeros((2,3))\n",
        "print(x) \n",
        "\n",
        "y = np.ones((2,3))\n",
        "print(y)\n",
        "\n",
        "#Multi-dimentional\n",
        "z = np.zeros((1,3,3))\n",
        "print(z)"
      ],
      "metadata": {
        "id": "iLsQRe_vYU5m",
        "outputId": "52fa59f4-69e4-407a-922c-081ee90c7dee",
        "colab": {
          "base_uri": "https://localhost:8080/"
        }
      },
      "execution_count": 39,
      "outputs": [
        {
          "output_type": "stream",
          "name": "stdout",
          "text": [
            "[[0. 0. 0.]\n",
            " [0. 0. 0.]]\n",
            "[[1. 1. 1.]\n",
            " [1. 1. 1.]]\n",
            "[[[0. 0. 0.]\n",
            "  [0. 0. 0.]\n",
            "  [0. 0. 0.]]]\n"
          ]
        }
      ]
    },
    {
      "cell_type": "code",
      "source": [
        "#Data fill with full\n",
        "x = np.full((2,3), 99)\n",
        "print(x)"
      ],
      "metadata": {
        "id": "rdIxvxoiZ793",
        "outputId": "e6ca2d14-0b80-479e-ec3b-7e92d234a9cd",
        "colab": {
          "base_uri": "https://localhost:8080/"
        }
      },
      "execution_count": 40,
      "outputs": [
        {
          "output_type": "stream",
          "name": "stdout",
          "text": [
            "[[99 99 99]\n",
            " [99 99 99]]\n"
          ]
        }
      ]
    },
    {
      "cell_type": "code",
      "source": [
        "# Fill with random numbers\n",
        "v = np.random.rand(3,4)\n",
        "print(v)"
      ],
      "metadata": {
        "id": "woD8MFCLaPj1",
        "outputId": "d8dc15fd-4e07-4aa3-d794-6dffcde1a6e5",
        "colab": {
          "base_uri": "https://localhost:8080/"
        }
      },
      "execution_count": 41,
      "outputs": [
        {
          "output_type": "stream",
          "name": "stdout",
          "text": [
            "[[0.14054879 0.58067175 0.05625173 0.19109448]\n",
            " [0.36178853 0.46546086 0.70056339 0.58103782]\n",
            " [0.34802815 0.93615298 0.38030941 0.03484766]]\n"
          ]
        }
      ]
    },
    {
      "cell_type": "code",
      "source": [
        "#Slicing\n",
        "a = np.array([[1,2,3,4,5,6,7],[8,9,10,11,12,13,14]])\n",
        "\n",
        "#Access 6\n",
        "print(a[0, 5])\n",
        "#Access 10\n",
        "print(a[1, 2])"
      ],
      "metadata": {
        "colab": {
          "base_uri": "https://localhost:8080/"
        },
        "id": "YUYRGYyMI8mX",
        "outputId": "1bf5d79b-c773-4b6b-c07d-6cfcf8ee0bc6"
      },
      "execution_count": 42,
      "outputs": [
        {
          "output_type": "stream",
          "name": "stdout",
          "text": [
            "6\n",
            "10\n"
          ]
        }
      ]
    },
    {
      "cell_type": "code",
      "source": [
        "#Manipulation\n",
        "a = np.array([[1,2,3,4,5,6,7],[8,9,10,11,12,13,14]])\n",
        "print(a)\n",
        "\n",
        "#replace 7 with 9\n",
        "a[0, 6] = 9\n",
        "\n",
        "print(a)"
      ],
      "metadata": {
        "colab": {
          "base_uri": "https://localhost:8080/"
        },
        "id": "lg-9H43OLweM",
        "outputId": "340a90eb-3219-4015-f03e-8cd724224107"
      },
      "execution_count": 43,
      "outputs": [
        {
          "output_type": "stream",
          "name": "stdout",
          "text": [
            "[[ 1  2  3  4  5  6  7]\n",
            " [ 8  9 10 11 12 13 14]]\n",
            "[[ 1  2  3  4  5  6  9]\n",
            " [ 8  9 10 11 12 13 14]]\n"
          ]
        }
      ]
    },
    {
      "cell_type": "code",
      "source": [
        "#Matrix - convert an array to matrix\n",
        "\n",
        "a = np.array([1,2])\n",
        "print(type(a))\n",
        "\n",
        "b = np.matrix(a)\n",
        "print(type(b))"
      ],
      "metadata": {
        "colab": {
          "base_uri": "https://localhost:8080/"
        },
        "id": "iiZvLDfcMjV6",
        "outputId": "b771d969-2084-4ac7-82b3-9b9871f1213c"
      },
      "execution_count": 44,
      "outputs": [
        {
          "output_type": "stream",
          "name": "stdout",
          "text": [
            "<class 'numpy.ndarray'>\n",
            "<class 'numpy.matrix'>\n"
          ]
        }
      ]
    },
    {
      "cell_type": "code",
      "source": [
        "#identity matrix\n",
        "z = np.identity(5)\n",
        "print(z)"
      ],
      "metadata": {
        "id": "EQk6zLULa389",
        "outputId": "c93dc226-1a93-4e37-f36a-28255729b5f8",
        "colab": {
          "base_uri": "https://localhost:8080/"
        }
      },
      "execution_count": 45,
      "outputs": [
        {
          "output_type": "stream",
          "name": "stdout",
          "text": [
            "[[1. 0. 0. 0. 0.]\n",
            " [0. 1. 0. 0. 0.]\n",
            " [0. 0. 1. 0. 0.]\n",
            " [0. 0. 0. 1. 0.]\n",
            " [0. 0. 0. 0. 1.]]\n"
          ]
        }
      ]
    },
    {
      "cell_type": "code",
      "source": [
        "#Maths with arrays\n",
        "x = np.array([1,2,3,4,5])\n",
        "\n",
        "print(x+2)\n",
        "print(x-1)\n",
        "print(x*2)\n",
        "print(x/2)\n",
        "print(np.cos(x))\n",
        "print(np.tan(x))"
      ],
      "metadata": {
        "colab": {
          "base_uri": "https://localhost:8080/"
        },
        "id": "gxa7K2UhM1gG",
        "outputId": "a83fb3b8-005f-4b8a-a5e5-2bcc414c428e"
      },
      "execution_count": 46,
      "outputs": [
        {
          "output_type": "stream",
          "name": "stdout",
          "text": [
            "[3 4 5 6 7]\n",
            "[0 1 2 3 4]\n",
            "[ 2  4  6  8 10]\n",
            "[0.5 1.  1.5 2.  2.5]\n",
            "[ 0.54030231 -0.41614684 -0.9899925  -0.65364362  0.28366219]\n",
            "[ 1.55740772 -2.18503986 -0.14254654  1.15782128 -3.38051501]\n"
          ]
        }
      ]
    },
    {
      "cell_type": "code",
      "source": [
        "#DataType mapping and memory - bitsize\n",
        "my_arr = np.array([(1,2),(3,4)], dtype=[('a', '<i1'),('b','<i8')])\n",
        "\n",
        "a = (my_arr[0][0])\n",
        "b = (my_arr[0][1])\n",
        "c = (my_arr[1][0])\n",
        "d = (my_arr[1][1])\n",
        "\n",
        "print(a)\n",
        "print(b)\n",
        "print(c)\n",
        "print(d)\n",
        "\n",
        "print(type(a))\n",
        "print(type(b))\n",
        "print(type(c))\n",
        "print(type(d))"
      ],
      "metadata": {
        "colab": {
          "base_uri": "https://localhost:8080/"
        },
        "id": "mfU1tD23Oory",
        "outputId": "e2cfe18f-cb45-4a36-af4f-ba125f255670"
      },
      "execution_count": 47,
      "outputs": [
        {
          "output_type": "stream",
          "name": "stdout",
          "text": [
            "1\n",
            "2\n",
            "3\n",
            "4\n",
            "<class 'numpy.int8'>\n",
            "<class 'numpy.int64'>\n",
            "<class 'numpy.int8'>\n",
            "<class 'numpy.int64'>\n"
          ]
        }
      ]
    }
  ]
}