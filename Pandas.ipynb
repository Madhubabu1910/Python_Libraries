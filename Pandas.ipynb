{
  "nbformat": 4,
  "nbformat_minor": 0,
  "metadata": {
    "colab": {
      "provenance": [],
      "authorship_tag": "ABX9TyNpzaiKV+czpUOFMzENujEr",
      "include_colab_link": true
    },
    "kernelspec": {
      "name": "python3",
      "display_name": "Python 3"
    },
    "language_info": {
      "name": "python"
    }
  },
  "cells": [
    {
      "cell_type": "markdown",
      "metadata": {
        "id": "view-in-github",
        "colab_type": "text"
      },
      "source": [
        "<a href=\"https://colab.research.google.com/github/iamkishore0/Python_Libraries/blob/main/Pandas.ipynb\" target=\"_parent\"><img src=\"https://colab.research.google.com/assets/colab-badge.svg\" alt=\"Open In Colab\"/></a>"
      ]
    },
    {
      "cell_type": "code",
      "execution_count": 4,
      "metadata": {
        "id": "KZnZlCd96Lb_"
      },
      "outputs": [],
      "source": [
        "#import required libraries pandas and numpy\n",
        "import pandas as pd\n",
        "import numpy as np"
      ]
    },
    {
      "cell_type": "code",
      "source": [
        "#Series - A series consists of index + data\n",
        "#DataFrame - two or more series considered as data frame"
      ],
      "metadata": {
        "id": "dFcuDMux6gjU"
      },
      "execution_count": 2,
      "outputs": []
    },
    {
      "cell_type": "code",
      "source": [
        "#Creating a series with default index\n",
        "x = [30,40,50]\n",
        "y = np.array(x)\n",
        "\n",
        "z = pd.Series(data=y)\n",
        "print(z)"
      ],
      "metadata": {
        "colab": {
          "base_uri": "https://localhost:8080/"
        },
        "id": "Mlfw5CNkCfvR",
        "outputId": "3df8a511-3e56-4910-87da-9888c36ff23b"
      },
      "execution_count": 14,
      "outputs": [
        {
          "output_type": "stream",
          "name": "stdout",
          "text": [
            "0    30\n",
            "1    40\n",
            "2    50\n",
            "dtype: int64\n"
          ]
        }
      ]
    },
    {
      "cell_type": "code",
      "source": [
        "#Creating a series with own index\n",
        "a = [0, 1, 2, 3]         #index\n",
        "b = [90,80,70,60]        #data\n",
        "c = np.array(b)          #converting list to nparray\n",
        "\n",
        "d = pd.Series(data=c, index=a)  #The actual code to join index and data togeather \n",
        "print(d)   "
      ],
      "metadata": {
        "colab": {
          "base_uri": "https://localhost:8080/"
        },
        "id": "Zfw2c-gi7cV0",
        "outputId": "fc63a2af-ce9d-435e-9cf8-9f8e1df4a56d"
      },
      "execution_count": 8,
      "outputs": [
        {
          "output_type": "stream",
          "name": "stdout",
          "text": [
            "0    90\n",
            "1    80\n",
            "2    70\n",
            "3    60\n",
            "dtype: int64\n"
          ]
        }
      ]
    },
    {
      "cell_type": "code",
      "source": [
        "#Creating a series with 'string' data\n",
        "a = [0,1,2,3,4]\n",
        "b = ['india', 'uk', 'us', 'japan', 'dubai']\n",
        "d = pd.Series(data=b, index=a)  #The actual code to join index and data togeather \n",
        "print(d)  "
      ],
      "metadata": {
        "colab": {
          "base_uri": "https://localhost:8080/"
        },
        "id": "QkQ42gGE9KnL",
        "outputId": "1ed05d99-0f89-45e0-daf4-566b381ab446"
      },
      "execution_count": 10,
      "outputs": [
        {
          "output_type": "stream",
          "name": "stdout",
          "text": [
            "0    india\n",
            "1       uk\n",
            "2       us\n",
            "3    japan\n",
            "4    dubai\n",
            "dtype: object\n"
          ]
        }
      ]
    },
    {
      "cell_type": "code",
      "source": [
        "#Dictionary in series\n",
        "a = {'region':'usa', 'rank':'1st','vehicle':'four wheeler','brand':'tesla'}\n",
        "\n",
        "b = pd.Series(data=a)\n",
        "print(b)"
      ],
      "metadata": {
        "colab": {
          "base_uri": "https://localhost:8080/"
        },
        "id": "o3ZYNkg394d6",
        "outputId": "8bb8a1b3-61b4-485d-a51e-d748a5ec271d"
      },
      "execution_count": 17,
      "outputs": [
        {
          "output_type": "stream",
          "name": "stdout",
          "text": [
            "region              usa\n",
            "rank                1st\n",
            "vehicle    four wheeler\n",
            "brand             tesla\n",
            "dtype: object\n"
          ]
        }
      ]
    },
    {
      "cell_type": "code",
      "source": [
        "#The direct method\n",
        "rank = pd.Series(['US','UK','EU','JP'],[1,2,3,4]) #please not the first list will be considered as data and second one as index\n",
        "print(rank)"
      ],
      "metadata": {
        "colab": {
          "base_uri": "https://localhost:8080/"
        },
        "id": "_UclrdobFXmj",
        "outputId": "7bf29dc5-c6f6-4352-e53e-8b7f7d2a8a8f"
      },
      "execution_count": 25,
      "outputs": [
        {
          "output_type": "stream",
          "name": "stdout",
          "text": [
            "1    US\n",
            "2    UK\n",
            "3    EU\n",
            "4    JP\n",
            "dtype: object\n"
          ]
        }
      ]
    },
    {
      "cell_type": "code",
      "source": [
        "#Slicing operations\n",
        "print(rank[1])\n",
        "print(rank[2])\n",
        "print(rank[3])\n",
        "print(rank[4])\n",
        "print(rank[1:3])\n",
        "print(rank[::-1])"
      ],
      "metadata": {
        "colab": {
          "base_uri": "https://localhost:8080/"
        },
        "id": "5c7pui5-Gvlb",
        "outputId": "8073ab8f-1bdd-4414-c2f6-773160eb742b"
      },
      "execution_count": 33,
      "outputs": [
        {
          "output_type": "stream",
          "name": "stdout",
          "text": [
            "US\n",
            "UK\n",
            "EU\n",
            "JP\n",
            "2    UK\n",
            "3    EU\n",
            "dtype: object\n",
            "4    JP\n",
            "3    EU\n",
            "2    UK\n",
            "1    US\n",
            "dtype: object\n"
          ]
        }
      ]
    },
    {
      "cell_type": "code",
      "source": [
        "#Merging Data\n",
        "#with matching indexes\n",
        "x = pd.Series([1,2,3,4],['A','B','C','D'])\n",
        "y = pd.Series([9,8,7,6],['A','B','C','D'])\n",
        "z = x+y\n",
        "print(z)\n",
        "\n",
        "#with unmatched indexes\n",
        "a = pd.Series([1,2,3,4],['D','C','B','A'])\n",
        "b = pd.Series([5,6,7,8],['B','O','D','Q'])\n",
        "c = a+b\n",
        "print(c)\n"
      ],
      "metadata": {
        "colab": {
          "base_uri": "https://localhost:8080/"
        },
        "id": "OraoBqJnIfo7",
        "outputId": "99435f77-bc43-4516-b5f5-98f63fca0033"
      },
      "execution_count": 45,
      "outputs": [
        {
          "output_type": "stream",
          "name": "stdout",
          "text": [
            "A    10\n",
            "B    10\n",
            "C    10\n",
            "D    10\n",
            "dtype: int64\n",
            "A    NaN\n",
            "B    8.0\n",
            "C    NaN\n",
            "D    8.0\n",
            "O    NaN\n",
            "Q    NaN\n",
            "dtype: float64\n"
          ]
        }
      ]
    },
    {
      "cell_type": "code",
      "source": [
        "#Create a Data frame\n",
        "\n",
        "\n",
        "data = {'Name': ['Tom', 'Jack', 'nick', 'juli'],\n",
        "\t    \t'marks': [99, 98, 95, 90],\n",
        "        'section' : ['A','B','C','D']}\n",
        "\n",
        "df = pd.DataFrame(data, index=['rank1',\n",
        "\t\t\t\t\t\t\t'rank2',\n",
        "\t\t\t\t\t\t\t'rank3',\n",
        "\t\t\t\t\t\t\t'rank4'])\n",
        "df\n"
      ],
      "metadata": {
        "colab": {
          "base_uri": "https://localhost:8080/",
          "height": 175
        },
        "id": "MD90fUgpKeCw",
        "outputId": "52cd6371-a06e-4ed8-eafc-44d369d5d4da"
      },
      "execution_count": 58,
      "outputs": [
        {
          "output_type": "execute_result",
          "data": {
            "text/plain": [
              "       Name  marks section\n",
              "rank1   Tom     99       A\n",
              "rank2  Jack     98       B\n",
              "rank3  nick     95       C\n",
              "rank4  juli     90       D"
            ],
            "text/html": [
              "\n",
              "  <div id=\"df-672c4ca7-11c1-4f74-bf1e-4c9a1105142a\">\n",
              "    <div class=\"colab-df-container\">\n",
              "      <div>\n",
              "<style scoped>\n",
              "    .dataframe tbody tr th:only-of-type {\n",
              "        vertical-align: middle;\n",
              "    }\n",
              "\n",
              "    .dataframe tbody tr th {\n",
              "        vertical-align: top;\n",
              "    }\n",
              "\n",
              "    .dataframe thead th {\n",
              "        text-align: right;\n",
              "    }\n",
              "</style>\n",
              "<table border=\"1\" class=\"dataframe\">\n",
              "  <thead>\n",
              "    <tr style=\"text-align: right;\">\n",
              "      <th></th>\n",
              "      <th>Name</th>\n",
              "      <th>marks</th>\n",
              "      <th>section</th>\n",
              "    </tr>\n",
              "  </thead>\n",
              "  <tbody>\n",
              "    <tr>\n",
              "      <th>rank1</th>\n",
              "      <td>Tom</td>\n",
              "      <td>99</td>\n",
              "      <td>A</td>\n",
              "    </tr>\n",
              "    <tr>\n",
              "      <th>rank2</th>\n",
              "      <td>Jack</td>\n",
              "      <td>98</td>\n",
              "      <td>B</td>\n",
              "    </tr>\n",
              "    <tr>\n",
              "      <th>rank3</th>\n",
              "      <td>nick</td>\n",
              "      <td>95</td>\n",
              "      <td>C</td>\n",
              "    </tr>\n",
              "    <tr>\n",
              "      <th>rank4</th>\n",
              "      <td>juli</td>\n",
              "      <td>90</td>\n",
              "      <td>D</td>\n",
              "    </tr>\n",
              "  </tbody>\n",
              "</table>\n",
              "</div>\n",
              "      <button class=\"colab-df-convert\" onclick=\"convertToInteractive('df-672c4ca7-11c1-4f74-bf1e-4c9a1105142a')\"\n",
              "              title=\"Convert this dataframe to an interactive table.\"\n",
              "              style=\"display:none;\">\n",
              "        \n",
              "  <svg xmlns=\"http://www.w3.org/2000/svg\" height=\"24px\"viewBox=\"0 0 24 24\"\n",
              "       width=\"24px\">\n",
              "    <path d=\"M0 0h24v24H0V0z\" fill=\"none\"/>\n",
              "    <path d=\"M18.56 5.44l.94 2.06.94-2.06 2.06-.94-2.06-.94-.94-2.06-.94 2.06-2.06.94zm-11 1L8.5 8.5l.94-2.06 2.06-.94-2.06-.94L8.5 2.5l-.94 2.06-2.06.94zm10 10l.94 2.06.94-2.06 2.06-.94-2.06-.94-.94-2.06-.94 2.06-2.06.94z\"/><path d=\"M17.41 7.96l-1.37-1.37c-.4-.4-.92-.59-1.43-.59-.52 0-1.04.2-1.43.59L10.3 9.45l-7.72 7.72c-.78.78-.78 2.05 0 2.83L4 21.41c.39.39.9.59 1.41.59.51 0 1.02-.2 1.41-.59l7.78-7.78 2.81-2.81c.8-.78.8-2.07 0-2.86zM5.41 20L4 18.59l7.72-7.72 1.47 1.35L5.41 20z\"/>\n",
              "  </svg>\n",
              "      </button>\n",
              "      \n",
              "  <style>\n",
              "    .colab-df-container {\n",
              "      display:flex;\n",
              "      flex-wrap:wrap;\n",
              "      gap: 12px;\n",
              "    }\n",
              "\n",
              "    .colab-df-convert {\n",
              "      background-color: #E8F0FE;\n",
              "      border: none;\n",
              "      border-radius: 50%;\n",
              "      cursor: pointer;\n",
              "      display: none;\n",
              "      fill: #1967D2;\n",
              "      height: 32px;\n",
              "      padding: 0 0 0 0;\n",
              "      width: 32px;\n",
              "    }\n",
              "\n",
              "    .colab-df-convert:hover {\n",
              "      background-color: #E2EBFA;\n",
              "      box-shadow: 0px 1px 2px rgba(60, 64, 67, 0.3), 0px 1px 3px 1px rgba(60, 64, 67, 0.15);\n",
              "      fill: #174EA6;\n",
              "    }\n",
              "\n",
              "    [theme=dark] .colab-df-convert {\n",
              "      background-color: #3B4455;\n",
              "      fill: #D2E3FC;\n",
              "    }\n",
              "\n",
              "    [theme=dark] .colab-df-convert:hover {\n",
              "      background-color: #434B5C;\n",
              "      box-shadow: 0px 1px 3px 1px rgba(0, 0, 0, 0.15);\n",
              "      filter: drop-shadow(0px 1px 2px rgba(0, 0, 0, 0.3));\n",
              "      fill: #FFFFFF;\n",
              "    }\n",
              "  </style>\n",
              "\n",
              "      <script>\n",
              "        const buttonEl =\n",
              "          document.querySelector('#df-672c4ca7-11c1-4f74-bf1e-4c9a1105142a button.colab-df-convert');\n",
              "        buttonEl.style.display =\n",
              "          google.colab.kernel.accessAllowed ? 'block' : 'none';\n",
              "\n",
              "        async function convertToInteractive(key) {\n",
              "          const element = document.querySelector('#df-672c4ca7-11c1-4f74-bf1e-4c9a1105142a');\n",
              "          const dataTable =\n",
              "            await google.colab.kernel.invokeFunction('convertToInteractive',\n",
              "                                                     [key], {});\n",
              "          if (!dataTable) return;\n",
              "\n",
              "          const docLinkHtml = 'Like what you see? Visit the ' +\n",
              "            '<a target=\"_blank\" href=https://colab.research.google.com/notebooks/data_table.ipynb>data table notebook</a>'\n",
              "            + ' to learn more about interactive tables.';\n",
              "          element.innerHTML = '';\n",
              "          dataTable['output_type'] = 'display_data';\n",
              "          await google.colab.output.renderOutput(dataTable, element);\n",
              "          const docLink = document.createElement('div');\n",
              "          docLink.innerHTML = docLinkHtml;\n",
              "          element.appendChild(docLink);\n",
              "        }\n",
              "      </script>\n",
              "    </div>\n",
              "  </div>\n",
              "  "
            ]
          },
          "metadata": {},
          "execution_count": 58
        }
      ]
    }
  ]
}